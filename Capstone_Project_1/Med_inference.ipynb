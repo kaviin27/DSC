{
 "cells": [
  {
   "cell_type": "code",
   "execution_count": 1,
   "metadata": {
    "colab": {},
    "colab_type": "code",
    "id": "_S1G4lZnISLd"
   },
   "outputs": [],
   "source": [
    "import pandas as pd\n",
    "import matplotlib.pyplot as plt\n",
    "import numpy as np\n",
    "import seaborn as sns\n",
    "from IPython.core.pylabtools import figsize\n",
    "import scipy.stats"
   ]
  },
  {
   "cell_type": "code",
   "execution_count": 2,
   "metadata": {
    "colab": {
     "base_uri": "https://localhost:8080/",
     "height": 204
    },
    "colab_type": "code",
    "id": "H09bs2k1IkHJ",
    "outputId": "a308e0b8-0fd8-4bd3-93c6-822c22778c70"
   },
   "outputs": [
    {
     "data": {
      "text/html": [
       "<div>\n",
       "<style scoped>\n",
       "    .dataframe tbody tr th:only-of-type {\n",
       "        vertical-align: middle;\n",
       "    }\n",
       "\n",
       "    .dataframe tbody tr th {\n",
       "        vertical-align: top;\n",
       "    }\n",
       "\n",
       "    .dataframe thead th {\n",
       "        text-align: right;\n",
       "    }\n",
       "</style>\n",
       "<table border=\"1\" class=\"dataframe\">\n",
       "  <thead>\n",
       "    <tr style=\"text-align: right;\">\n",
       "      <th></th>\n",
       "      <th>uniqueID</th>\n",
       "      <th>drugName</th>\n",
       "      <th>condition</th>\n",
       "      <th>review</th>\n",
       "      <th>rating</th>\n",
       "      <th>date</th>\n",
       "      <th>usefulCount</th>\n",
       "    </tr>\n",
       "  </thead>\n",
       "  <tbody>\n",
       "    <tr>\n",
       "      <td>0</td>\n",
       "      <td>96233</td>\n",
       "      <td>Sertraline</td>\n",
       "      <td>Depression</td>\n",
       "      <td>\"1 week on Zoloft for anxiety and mood swings....</td>\n",
       "      <td>8</td>\n",
       "      <td>7-May-11</td>\n",
       "      <td>3</td>\n",
       "    </tr>\n",
       "    <tr>\n",
       "      <td>1</td>\n",
       "      <td>225257</td>\n",
       "      <td>Bupropion</td>\n",
       "      <td>Depression</td>\n",
       "      <td>\"I was really glad that I experienced none of ...</td>\n",
       "      <td>4</td>\n",
       "      <td>8-Oct-15</td>\n",
       "      <td>0</td>\n",
       "    </tr>\n",
       "    <tr>\n",
       "      <td>2</td>\n",
       "      <td>224842</td>\n",
       "      <td>Bupropion</td>\n",
       "      <td>Depression</td>\n",
       "      <td>\"F/26, Wellbutrin SR 100mg twice a day &amp;amp; I...</td>\n",
       "      <td>10</td>\n",
       "      <td>2-Jan-17</td>\n",
       "      <td>14</td>\n",
       "    </tr>\n",
       "    <tr>\n",
       "      <td>3</td>\n",
       "      <td>225955</td>\n",
       "      <td>Bupropion</td>\n",
       "      <td>Depression</td>\n",
       "      <td>\"Wellbutrin has significantly improved my over...</td>\n",
       "      <td>8</td>\n",
       "      <td>8-Jun-09</td>\n",
       "      <td>46</td>\n",
       "    </tr>\n",
       "    <tr>\n",
       "      <td>4</td>\n",
       "      <td>95811</td>\n",
       "      <td>Sertraline</td>\n",
       "      <td>Depression</td>\n",
       "      <td>\"I was on the sertraline, for 3 years. After d...</td>\n",
       "      <td>6</td>\n",
       "      <td>12-May-14</td>\n",
       "      <td>25</td>\n",
       "    </tr>\n",
       "  </tbody>\n",
       "</table>\n",
       "</div>"
      ],
      "text/plain": [
       "   uniqueID    drugName   condition  \\\n",
       "0     96233  Sertraline  Depression   \n",
       "1    225257   Bupropion  Depression   \n",
       "2    224842   Bupropion  Depression   \n",
       "3    225955   Bupropion  Depression   \n",
       "4     95811  Sertraline  Depression   \n",
       "\n",
       "                                              review  rating       date  \\\n",
       "0  \"1 week on Zoloft for anxiety and mood swings....       8   7-May-11   \n",
       "1  \"I was really glad that I experienced none of ...       4   8-Oct-15   \n",
       "2  \"F/26, Wellbutrin SR 100mg twice a day &amp; I...      10   2-Jan-17   \n",
       "3  \"Wellbutrin has significantly improved my over...       8   8-Jun-09   \n",
       "4  \"I was on the sertraline, for 3 years. After d...       6  12-May-14   \n",
       "\n",
       "   usefulCount  \n",
       "0            3  \n",
       "1            0  \n",
       "2           14  \n",
       "3           46  \n",
       "4           25  "
      ]
     },
     "execution_count": 2,
     "metadata": {},
     "output_type": "execute_result"
    }
   ],
   "source": [
    "url = 'https://raw.githubusercontent.com/kavinsrinaath/DSC/master/temP/drug_review.csv'\n",
    "df = pd.read_csv(url)\n",
    "df.head()"
   ]
  },
  {
   "cell_type": "code",
   "execution_count": 3,
   "metadata": {
    "colab": {
     "base_uri": "https://localhost:8080/",
     "height": 51
    },
    "colab_type": "code",
    "id": "GcbkKqlDJF1R",
    "outputId": "5f03a92f-708d-4b2d-b4ed-9eab844f11cf"
   },
   "outputs": [
    {
     "name": "stdout",
     "output_type": "stream",
     "text": [
      "Length of rating_ser : 663\n",
      "Length of rating_bup : 747\n"
     ]
    }
   ],
   "source": [
    "rating_ser = df.rating[df.drugName=='Sertraline']\n",
    "rating_bup = df.rating[df.drugName=='Bupropion']\n",
    "print(f'Length of rating_ser : {len(rating_ser)}')\n",
    "print(f'Length of rating_bup : {len(rating_bup)}')"
   ]
  },
  {
   "cell_type": "code",
   "execution_count": 4,
   "metadata": {
    "colab": {
     "base_uri": "https://localhost:8080/",
     "height": 85
    },
    "colab_type": "code",
    "id": "iXv_9uLOP1GP",
    "outputId": "d46905b8-d92d-47aa-e80e-d0d4a1e110b4"
   },
   "outputs": [
    {
     "name": "stdout",
     "output_type": "stream",
     "text": [
      "Mean_ser : 7.14027149321267\n",
      "Mean_bup : 7.386880856760375\n",
      "Std_ser : 3.0295510199324003\n",
      "Std_bup : 2.899383181235341\n"
     ]
    }
   ],
   "source": [
    "mean_ser = np.mean(rating_ser)\n",
    "mean_bup = np.mean(rating_bup)\n",
    "std_ser = np.std(rating_ser,ddof=1)\n",
    "std_bup = np.std(rating_bup,ddof=1)\n",
    "print(f'Mean_ser : {mean_ser}')\n",
    "print(f'Mean_bup : {mean_bup}')\n",
    "print(f'Std_ser : {std_ser}')\n",
    "print(f'Std_bup : {std_bup}')"
   ]
  },
  {
   "cell_type": "code",
   "execution_count": 5,
   "metadata": {
    "colab": {
     "base_uri": "https://localhost:8080/",
     "height": 34
    },
    "colab_type": "code",
    "id": "ZYri-HJEDy29",
    "outputId": "d9c12c9d-d383-45cc-eff9-9a0966c4db4b"
   },
   "outputs": [
    {
     "name": "stdout",
     "output_type": "stream",
     "text": [
      "0.24660936354770513\n"
     ]
    }
   ],
   "source": [
    "obs_mean_diff = mean_bup-mean_ser\n",
    "print(obs_mean_diff)"
   ]
  },
  {
   "cell_type": "code",
   "execution_count": 6,
   "metadata": {
    "colab": {},
    "colab_type": "code",
    "id": "vGHfU92mZg85"
   },
   "outputs": [],
   "source": [
    "#H0 : Both drugs have equal recption\n",
    "#H1 : Reception of Bupropion is greater than Sertraline\n",
    "\n",
    "#We choose a 95% CI (alpha 0.05) for this particular test."
   ]
  },
  {
   "cell_type": "code",
   "execution_count": 7,
   "metadata": {
    "colab": {},
    "colab_type": "code",
    "id": "3CtrZz_7kA4Y"
   },
   "outputs": [],
   "source": [
    "np.random.seed(42)\n",
    "bootstrap_ser = [rating_ser.sample(1000,replace=True).mean() for i in range(10000)]\n",
    "bootstrap_bup = [rating_bup.sample(1000,replace=True).mean() for i in range(10000)]\n",
    "bootstrap_mean_diff = np.subtract(bootstrap_bup,bootstrap_ser)"
   ]
  },
  {
   "cell_type": "code",
   "execution_count": 8,
   "metadata": {
    "colab": {
     "base_uri": "https://localhost:8080/",
     "height": 34
    },
    "colab_type": "code",
    "id": "IgWzsLnilUOy",
    "outputId": "d6df1b54-9851-4b3e-db2b-1a5423469f33"
   },
   "outputs": [
    {
     "name": "stdout",
     "output_type": "stream",
     "text": [
      "p-Value : 0.4982\n",
      "95 % CIs : [-0.019025  0.511   ]\n"
     ]
    }
   ],
   "source": [
    "pval = np.sum(bootstrap_mean_diff>=obs_mean_diff)/len(bootstrap_mean_diff)\n",
    "CIs = np.percentile(bootstrap_mean_diff,[2.5,97.5])\n",
    "upper_limit = round(CIs[1],2)\n",
    "lower_limit = round(CIs[0],2)\n",
    "\n",
    "print(f'p-Value : {pval}')\n",
    "print(f'95 % CIs : {CIs}')"
   ]
  },
  {
   "cell_type": "code",
   "execution_count": 9,
   "metadata": {
    "colab": {},
    "colab_type": "code",
    "id": "DXF7J7nJlIni"
   },
   "outputs": [
    {
     "data": {
      "text/plain": [
       "<matplotlib.legend.Legend at 0x255c113f6d8>"
      ]
     },
     "execution_count": 9,
     "metadata": {},
     "output_type": "execute_result"
    },
    {
     "data": {
      "image/png": "[encoded data removed]",
      "text/plain": [
       "<Figure size 900x288 with 1 Axes>"
      ]
     },
     "metadata": {
      "needs_background": "light"
     },
     "output_type": "display_data"
    }
   ],
   "source": [
    "figsize(12.5,4)\n",
    "sns.distplot(bootstrap_mean_diff,kde=False)\n",
    "plt.xlabel('Mean diff between both drugs')\n",
    "plt.ylabel('Count')\n",
    "plt.title('Distribution of mean differences')\n",
    "plt.axvline(lower_limit,color='green',label='95 % CI lower intevrval') # lower interval\n",
    "plt.axvline(upper_limit,color='red',label='95 % CI higher intevrval') # higher interval\n",
    "plt.legend()"
   ]
  },
  {
   "cell_type": "code",
   "execution_count": 10,
   "metadata": {},
   "outputs": [],
   "source": [
    "# With p-value of 0.498 we accept the null hypothesis as arrive at the conclusion that both durgs are received equally by its\n",
    "#users for treatment of depression."
   ]
  },
  {
   "cell_type": "code",
   "execution_count": 11,
   "metadata": {},
   "outputs": [
    {
     "data": {
      "text/plain": [
       "Ttest_indResult(statistic=-1.5607563248621923, pvalue=0.11880597955715763)"
      ]
     },
     "execution_count": 11,
     "metadata": {},
     "output_type": "execute_result"
    }
   ],
   "source": [
    "scipy.stats.ttest_ind(rating_ser,rating_bup,equal_var=True)"
   ]
  },
  {
   "cell_type": "code",
   "execution_count": 14,
   "metadata": {},
   "outputs": [],
   "source": [
    "#We now confirm the same witht he t-test as well where the pvalue is greater than the chosen alpha, and thus we accept null hypothesis."
   ]
  },
  {
   "cell_type": "code",
   "execution_count": null,
   "metadata": {},
   "outputs": [],
   "source": [
    "# Student t-distribution Percent Point Function\n",
    "from scipy.stats import t\n",
    "# define probability\n",
    "p = 0.95\n",
    "df = 10\n",
    "# retrieve value <= probability\n",
    "value = t.ppf(p, df)\n",
    "print(value)\n",
    "# confirm with cdf\n",
    "p = t.cdf(value, df)\n",
    "print(p)"
   ]
  }
 ],
 "metadata": {
  "colab": {
   "collapsed_sections": [],
   "name": "Untitled0.ipynb",
   "provenance": []
  },
  "kernelspec": {
   "display_name": "Python 3",
   "language": "python",
   "name": "python3"
  },
  "language_info": {
   "codemirror_mode": {
    "name": "ipython",
    "version": 3
   },
   "file_extension": ".py",
   "mimetype": "text/x-python",
   "name": "python",
   "nbconvert_exporter": "python",
   "pygments_lexer": "ipython3",
   "version": "3.7.2"
  }
 },
 "nbformat": 4,
 "nbformat_minor": 1
}
