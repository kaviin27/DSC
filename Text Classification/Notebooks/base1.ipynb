{
 "cells": [
  {
   "cell_type": "code",
   "execution_count": 7,
   "metadata": {},
   "outputs": [],
   "source": [
    "import pandas as pd\n",
    "from sklearn.pipeline import make_pipeline\n",
    "import nltk\n",
    "from nltk.corpus import words\n",
    "from nltk.corpus import stopwords\n",
    "from gensim.models.doc2vec import TaggedDocument,Doc2Vec\n",
    "from functions import data_cleaner_tweets\n",
    "from functions import data_cleaner\n",
    "import multiprocessing\n",
    "from sklearn.feature_extraction.text import TfidfVectorizer"
   ]
  },
  {
   "cell_type": "code",
   "execution_count": 2,
   "metadata": {},
   "outputs": [
    {
     "data": {
      "text/html": [
       "<div>\n",
       "<style scoped>\n",
       "    .dataframe tbody tr th:only-of-type {\n",
       "        vertical-align: middle;\n",
       "    }\n",
       "\n",
       "    .dataframe tbody tr th {\n",
       "        vertical-align: top;\n",
       "    }\n",
       "\n",
       "    .dataframe thead th {\n",
       "        text-align: right;\n",
       "    }\n",
       "</style>\n",
       "<table border=\"1\" class=\"dataframe\">\n",
       "  <thead>\n",
       "    <tr style=\"text-align: right;\">\n",
       "      <th></th>\n",
       "      <th>tweet</th>\n",
       "      <th>sentiment</th>\n",
       "    </tr>\n",
       "  </thead>\n",
       "  <tbody>\n",
       "    <tr>\n",
       "      <th>0</th>\n",
       "      <td>nct wayv 127 taekook jikook au smut fluff nsfw...</td>\n",
       "      <td>0</td>\n",
       "    </tr>\n",
       "    <tr>\n",
       "      <th>1</th>\n",
       "      <td>Excited to share this item from my etsy shop ...</td>\n",
       "      <td>0</td>\n",
       "    </tr>\n",
       "    <tr>\n",
       "      <th>2</th>\n",
       "      <td>It finally happened iphone11 after one week ha...</td>\n",
       "      <td>1</td>\n",
       "    </tr>\n",
       "    <tr>\n",
       "      <th>3</th>\n",
       "      <td>Because iphone dont have 5g phones Mostly new ...</td>\n",
       "      <td>0</td>\n",
       "    </tr>\n",
       "    <tr>\n",
       "      <th>4</th>\n",
       "      <td>Apple has launched its third generation of sm...</td>\n",
       "      <td>0</td>\n",
       "    </tr>\n",
       "  </tbody>\n",
       "</table>\n",
       "</div>"
      ],
      "text/plain": [
       "                                               tweet sentiment\n",
       "0  nct wayv 127 taekook jikook au smut fluff nsfw...         0\n",
       "1   Excited to share this item from my etsy shop ...         0\n",
       "2  It finally happened iphone11 after one week ha...         1\n",
       "3  Because iphone dont have 5g phones Mostly new ...         0\n",
       "4   Apple has launched its third generation of sm...         0"
      ]
     },
     "execution_count": 2,
     "metadata": {},
     "output_type": "execute_result"
    }
   ],
   "source": [
    "df = pd.read_csv(r'../Datasets/apple_dataset.csv',usecols=['tweet','sentiment'])\n",
    "df.sentiment[df.sentiment=='Positive'] = 1\n",
    "df.sentiment[df.sentiment=='Neutral'] = 0\n",
    "df.sentiment[df.sentiment=='Negative'] = -1\n",
    "df.head()"
   ]
  },
  {
   "cell_type": "code",
   "execution_count": 3,
   "metadata": {},
   "outputs": [],
   "source": [
    "count_vect = TfidfVectorizer()\n",
    "tokenizer = count_vect.build_tokenizer()\n"
   ]
  },
  {
   "cell_type": "code",
   "execution_count": 4,
   "metadata": {},
   "outputs": [],
   "source": [
    "dataset = []\n",
    "def f_docbuilder(x,y):\n",
    "    for i in range(len(x)):\n",
    "        dataset.append(TaggedDocument(words=tokenizer(x[i]), tags=[y[i]] ))"
   ]
  },
  {
   "cell_type": "code",
   "execution_count": 5,
   "metadata": {},
   "outputs": [],
   "source": [
    "f_docbuilder(df.tweet,df.sentiment)"
   ]
  },
  {
   "cell_type": "code",
   "execution_count": null,
   "metadata": {},
   "outputs": [
    {
     "name": "stderr",
     "output_type": "stream",
     "text": [
      "Exception in thread Thread-6:\n",
      "Traceback (most recent call last):\n",
      "  File \"c:\\users\\kavin\\appdata\\local\\programs\\python\\python37\\lib\\threading.py\", line 917, in _bootstrap_inner\n",
      "    self.run()\n",
      "  File \"c:\\users\\kavin\\appdata\\local\\programs\\python\\python37\\lib\\threading.py\", line 865, in run\n",
      "    self._target(*self._args, **self._kwargs)\n",
      "  File \"c:\\users\\kavin\\appdata\\local\\programs\\python\\python37\\lib\\site-packages\\gensim\\models\\base_any2vec.py\", line 211, in _worker_loop\n",
      "    tally, raw_tally = self._do_train_job(data_iterable, job_parameters, thread_private_mem)\n",
      "  File \"c:\\users\\kavin\\appdata\\local\\programs\\python\\python37\\lib\\site-packages\\gensim\\models\\doc2vec.py\", line 731, in _do_train_job\n",
      "    doctag_vectors=doctag_vectors, doctag_locks=doctag_locks\n",
      "  File \"gensim/models/doc2vec_inner.pyx\", line 488, in gensim.models.doc2vec_inner.train_document_dm\n",
      "OverflowError: can't convert negative value to npy_uint32\n",
      "\n",
      "Exception in thread Thread-7:\n",
      "Traceback (most recent call last):\n",
      "  File \"c:\\users\\kavin\\appdata\\local\\programs\\python\\python37\\lib\\threading.py\", line 917, in _bootstrap_inner\n",
      "    self.run()\n",
      "  File \"c:\\users\\kavin\\appdata\\local\\programs\\python\\python37\\lib\\threading.py\", line 865, in run\n",
      "    self._target(*self._args, **self._kwargs)\n",
      "  File \"c:\\users\\kavin\\appdata\\local\\programs\\python\\python37\\lib\\site-packages\\gensim\\models\\base_any2vec.py\", line 211, in _worker_loop\n",
      "    tally, raw_tally = self._do_train_job(data_iterable, job_parameters, thread_private_mem)\n",
      "  File \"c:\\users\\kavin\\appdata\\local\\programs\\python\\python37\\lib\\site-packages\\gensim\\models\\doc2vec.py\", line 731, in _do_train_job\n",
      "    doctag_vectors=doctag_vectors, doctag_locks=doctag_locks\n",
      "  File \"gensim/models/doc2vec_inner.pyx\", line 488, in gensim.models.doc2vec_inner.train_document_dm\n",
      "OverflowError: can't convert negative value to npy_uint32\n",
      "\n"
     ]
    }
   ],
   "source": [
    "cores = multiprocessing.cpu_count()-1\n",
    "\n",
    "doc_model = Doc2Vec(dataset,dm=1, vector_size=100, negative=5, hs=0, min_count=2, sample = 0, workers=cores, alpha=0.025, min_alpha=0.001)"
   ]
  },
  {
   "cell_type": "code",
   "execution_count": null,
   "metadata": {},
   "outputs": [],
   "source": []
  }
 ],
 "metadata": {
  "kernelspec": {
   "display_name": "Python 3",
   "language": "python",
   "name": "python3"
  },
  "language_info": {
   "codemirror_mode": {
    "name": "ipython",
    "version": 3
   },
   "file_extension": ".py",
   "mimetype": "text/x-python",
   "name": "python",
   "nbconvert_exporter": "python",
   "pygments_lexer": "ipython3",
   "version": "3.7.2"
  }
 },
 "nbformat": 4,
 "nbformat_minor": 2
}
