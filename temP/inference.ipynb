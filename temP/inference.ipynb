{
 "cells": [
  {
   "cell_type": "code",
   "execution_count": 1,
   "metadata": {},
   "outputs": [],
   "source": [
    "import pandas as pd"
   ]
  },
  {
   "cell_type": "code",
   "execution_count": 2,
   "metadata": {},
   "outputs": [],
   "source": [
    "test_data = pd.read_csv(r'..\\data\\drugsComTest_raw.csv')"
   ]
  },
  {
   "cell_type": "code",
   "execution_count": 3,
   "metadata": {},
   "outputs": [
    {
     "name": "stdout",
     "output_type": "stream",
     "text": [
      "<class 'pandas.core.frame.DataFrame'>\n",
      "RangeIndex: 53766 entries, 0 to 53765\n",
      "Data columns (total 7 columns):\n",
      "uniqueID       53766 non-null int64\n",
      "drugName       53766 non-null object\n",
      "condition      53471 non-null object\n",
      "review         53766 non-null object\n",
      "rating         53766 non-null int64\n",
      "date           53766 non-null object\n",
      "usefulCount    53766 non-null int64\n",
      "dtypes: int64(3), object(4)\n",
      "memory usage: 2.9+ MB\n"
     ]
    }
   ],
   "source": [
    "test_data.info()"
   ]
  },
  {
   "cell_type": "code",
   "execution_count": 10,
   "metadata": {},
   "outputs": [],
   "source": [
    "cond1= test_data['drugName'] == 'Bupropion'\n",
    "cond2= test_data['drugName'] == 'Sertraline'"
   ]
  },
  {
   "cell_type": "code",
   "execution_count": 31,
   "metadata": {},
   "outputs": [],
   "source": [
    "f_testdf = test_data[cond1 | cond2]"
   ]
  },
  {
   "cell_type": "code",
   "execution_count": 35,
   "metadata": {},
   "outputs": [],
   "source": [
    "f_testdf = f_testdf[f_testdf.condition=='Depression']"
   ]
  },
  {
   "cell_type": "code",
   "execution_count": 15,
   "metadata": {},
   "outputs": [],
   "source": [
    "train_data = pd.read_csv(r'..\\data\\drugsComTrain_raw.csv')"
   ]
  },
  {
   "cell_type": "code",
   "execution_count": 16,
   "metadata": {},
   "outputs": [
    {
     "name": "stdout",
     "output_type": "stream",
     "text": [
      "<class 'pandas.core.frame.DataFrame'>\n",
      "RangeIndex: 161297 entries, 0 to 161296\n",
      "Data columns (total 7 columns):\n",
      "uniqueID       161297 non-null int64\n",
      "drugName       161297 non-null object\n",
      "condition      160398 non-null object\n",
      "review         161297 non-null object\n",
      "rating         161297 non-null int64\n",
      "date           161297 non-null object\n",
      "usefulCount    161297 non-null int64\n",
      "dtypes: int64(3), object(4)\n",
      "memory usage: 8.6+ MB\n"
     ]
    }
   ],
   "source": [
    "train_data.info()"
   ]
  },
  {
   "cell_type": "code",
   "execution_count": 6,
   "metadata": {},
   "outputs": [
    {
     "data": {
      "text/plain": [
       "Bupropion         549\n",
       "Sertraline        459\n",
       "Venlafaxine       437\n",
       "Pristiq           418\n",
       "Desvenlafaxine    414\n",
       "                 ... \n",
       "Maprotiline         1\n",
       "Vyvanse             1\n",
       "Vivactil            1\n",
       "Asendin             1\n",
       "Luvox CR            1\n",
       "Name: drugName, Length: 105, dtype: int64"
      ]
     },
     "execution_count": 6,
     "metadata": {},
     "output_type": "execute_result"
    }
   ],
   "source": [
    "train_data.drugName[train_data.condition=='Depression'].value_counts()"
   ]
  },
  {
   "cell_type": "code",
   "execution_count": 32,
   "metadata": {},
   "outputs": [
    {
     "data": {
      "text/html": [
       "<div>\n",
       "<style scoped>\n",
       "    .dataframe tbody tr th:only-of-type {\n",
       "        vertical-align: middle;\n",
       "    }\n",
       "\n",
       "    .dataframe tbody tr th {\n",
       "        vertical-align: top;\n",
       "    }\n",
       "\n",
       "    .dataframe thead th {\n",
       "        text-align: right;\n",
       "    }\n",
       "</style>\n",
       "<table border=\"1\" class=\"dataframe\">\n",
       "  <thead>\n",
       "    <tr style=\"text-align: right;\">\n",
       "      <th></th>\n",
       "      <th>uniqueID</th>\n",
       "      <th>drugName</th>\n",
       "      <th>condition</th>\n",
       "      <th>review</th>\n",
       "      <th>rating</th>\n",
       "      <th>date</th>\n",
       "      <th>usefulCount</th>\n",
       "    </tr>\n",
       "  </thead>\n",
       "  <tbody>\n",
       "    <tr>\n",
       "      <td>31</td>\n",
       "      <td>96233</td>\n",
       "      <td>Sertraline</td>\n",
       "      <td>Depression</td>\n",
       "      <td>\"1 week on Zoloft for anxiety and mood swings....</td>\n",
       "      <td>8</td>\n",
       "      <td>7-May-11</td>\n",
       "      <td>3</td>\n",
       "    </tr>\n",
       "    <tr>\n",
       "      <td>58</td>\n",
       "      <td>225508</td>\n",
       "      <td>Bupropion</td>\n",
       "      <td>Smoking Cessation</td>\n",
       "      <td>\"Love this, no mouth sores, or ulcers like Wel...</td>\n",
       "      <td>10</td>\n",
       "      <td>22-Aug-14</td>\n",
       "      <td>15</td>\n",
       "    </tr>\n",
       "    <tr>\n",
       "      <td>79</td>\n",
       "      <td>64089</td>\n",
       "      <td>Sertraline</td>\n",
       "      <td>Panic Disorde</td>\n",
       "      <td>\"These reviews helped me so much when I first ...</td>\n",
       "      <td>10</td>\n",
       "      <td>23-Mar-17</td>\n",
       "      <td>28</td>\n",
       "    </tr>\n",
       "    <tr>\n",
       "      <td>153</td>\n",
       "      <td>225257</td>\n",
       "      <td>Bupropion</td>\n",
       "      <td>Depression</td>\n",
       "      <td>\"I was really glad that I experienced none of ...</td>\n",
       "      <td>4</td>\n",
       "      <td>8-Oct-15</td>\n",
       "      <td>0</td>\n",
       "    </tr>\n",
       "    <tr>\n",
       "      <td>184</td>\n",
       "      <td>224842</td>\n",
       "      <td>Bupropion</td>\n",
       "      <td>Depression</td>\n",
       "      <td>\"F/26, Wellbutrin SR 100mg twice a day &amp;amp; I...</td>\n",
       "      <td>10</td>\n",
       "      <td>2-Jan-17</td>\n",
       "      <td>14</td>\n",
       "    </tr>\n",
       "  </tbody>\n",
       "</table>\n",
       "</div>"
      ],
      "text/plain": [
       "     uniqueID    drugName          condition  \\\n",
       "31      96233  Sertraline         Depression   \n",
       "58     225508   Bupropion  Smoking Cessation   \n",
       "79      64089  Sertraline      Panic Disorde   \n",
       "153    225257   Bupropion         Depression   \n",
       "184    224842   Bupropion         Depression   \n",
       "\n",
       "                                                review  rating       date  \\\n",
       "31   \"1 week on Zoloft for anxiety and mood swings....       8   7-May-11   \n",
       "58   \"Love this, no mouth sores, or ulcers like Wel...      10  22-Aug-14   \n",
       "79   \"These reviews helped me so much when I first ...      10  23-Mar-17   \n",
       "153  \"I was really glad that I experienced none of ...       4   8-Oct-15   \n",
       "184  \"F/26, Wellbutrin SR 100mg twice a day &amp; I...      10   2-Jan-17   \n",
       "\n",
       "     usefulCount  \n",
       "31             3  \n",
       "58            15  \n",
       "79            28  \n",
       "153            0  \n",
       "184           14  "
      ]
     },
     "execution_count": 32,
     "metadata": {},
     "output_type": "execute_result"
    }
   ],
   "source": [
    "cond3= train_data['drugName'] == 'Bupropion'\n",
    "cond4= train_data['drugName'] == 'Sertraline'\n",
    "f_traindf = train_data[cond3 | cond4]\n",
    "f_traindf.head()"
   ]
  },
  {
   "cell_type": "code",
   "execution_count": 40,
   "metadata": {},
   "outputs": [],
   "source": [
    "f_traindf = f_traindf[f_traindf.condition=='Depression']"
   ]
  },
  {
   "cell_type": "code",
   "execution_count": 41,
   "metadata": {},
   "outputs": [],
   "source": [
    "df = pd.concat([f_traindf,f_testdf])"
   ]
  },
  {
   "cell_type": "code",
   "execution_count": 42,
   "metadata": {},
   "outputs": [
    {
     "data": {
      "text/html": [
       "<div>\n",
       "<style scoped>\n",
       "    .dataframe tbody tr th:only-of-type {\n",
       "        vertical-align: middle;\n",
       "    }\n",
       "\n",
       "    .dataframe tbody tr th {\n",
       "        vertical-align: top;\n",
       "    }\n",
       "\n",
       "    .dataframe thead th {\n",
       "        text-align: right;\n",
       "    }\n",
       "</style>\n",
       "<table border=\"1\" class=\"dataframe\">\n",
       "  <thead>\n",
       "    <tr style=\"text-align: right;\">\n",
       "      <th></th>\n",
       "      <th>uniqueID</th>\n",
       "      <th>drugName</th>\n",
       "      <th>condition</th>\n",
       "      <th>review</th>\n",
       "      <th>rating</th>\n",
       "      <th>date</th>\n",
       "      <th>usefulCount</th>\n",
       "    </tr>\n",
       "  </thead>\n",
       "  <tbody>\n",
       "    <tr>\n",
       "      <td>31</td>\n",
       "      <td>96233</td>\n",
       "      <td>Sertraline</td>\n",
       "      <td>Depression</td>\n",
       "      <td>\"1 week on Zoloft for anxiety and mood swings....</td>\n",
       "      <td>8</td>\n",
       "      <td>7-May-11</td>\n",
       "      <td>3</td>\n",
       "    </tr>\n",
       "    <tr>\n",
       "      <td>153</td>\n",
       "      <td>225257</td>\n",
       "      <td>Bupropion</td>\n",
       "      <td>Depression</td>\n",
       "      <td>\"I was really glad that I experienced none of ...</td>\n",
       "      <td>4</td>\n",
       "      <td>8-Oct-15</td>\n",
       "      <td>0</td>\n",
       "    </tr>\n",
       "    <tr>\n",
       "      <td>184</td>\n",
       "      <td>224842</td>\n",
       "      <td>Bupropion</td>\n",
       "      <td>Depression</td>\n",
       "      <td>\"F/26, Wellbutrin SR 100mg twice a day &amp;amp; I...</td>\n",
       "      <td>10</td>\n",
       "      <td>2-Jan-17</td>\n",
       "      <td>14</td>\n",
       "    </tr>\n",
       "    <tr>\n",
       "      <td>420</td>\n",
       "      <td>225955</td>\n",
       "      <td>Bupropion</td>\n",
       "      <td>Depression</td>\n",
       "      <td>\"Wellbutrin has significantly improved my over...</td>\n",
       "      <td>8</td>\n",
       "      <td>8-Jun-09</td>\n",
       "      <td>46</td>\n",
       "    </tr>\n",
       "    <tr>\n",
       "      <td>504</td>\n",
       "      <td>95811</td>\n",
       "      <td>Sertraline</td>\n",
       "      <td>Depression</td>\n",
       "      <td>\"I was on the sertraline, for 3 years. After d...</td>\n",
       "      <td>6</td>\n",
       "      <td>12-May-14</td>\n",
       "      <td>25</td>\n",
       "    </tr>\n",
       "  </tbody>\n",
       "</table>\n",
       "</div>"
      ],
      "text/plain": [
       "     uniqueID    drugName   condition  \\\n",
       "31      96233  Sertraline  Depression   \n",
       "153    225257   Bupropion  Depression   \n",
       "184    224842   Bupropion  Depression   \n",
       "420    225955   Bupropion  Depression   \n",
       "504     95811  Sertraline  Depression   \n",
       "\n",
       "                                                review  rating       date  \\\n",
       "31   \"1 week on Zoloft for anxiety and mood swings....       8   7-May-11   \n",
       "153  \"I was really glad that I experienced none of ...       4   8-Oct-15   \n",
       "184  \"F/26, Wellbutrin SR 100mg twice a day &amp; I...      10   2-Jan-17   \n",
       "420  \"Wellbutrin has significantly improved my over...       8   8-Jun-09   \n",
       "504  \"I was on the sertraline, for 3 years. After d...       6  12-May-14   \n",
       "\n",
       "     usefulCount  \n",
       "31             3  \n",
       "153            0  \n",
       "184           14  \n",
       "420           46  \n",
       "504           25  "
      ]
     },
     "execution_count": 42,
     "metadata": {},
     "output_type": "execute_result"
    }
   ],
   "source": [
    "df.head()"
   ]
  },
  {
   "cell_type": "code",
   "execution_count": 43,
   "metadata": {},
   "outputs": [
    {
     "data": {
      "text/plain": [
       "1008"
      ]
     },
     "execution_count": 43,
     "metadata": {},
     "output_type": "execute_result"
    }
   ],
   "source": [
    "len(f_traindf)"
   ]
  },
  {
   "cell_type": "code",
   "execution_count": 44,
   "metadata": {},
   "outputs": [
    {
     "data": {
      "text/plain": [
       "Depression    459\n",
       "Name: condition, dtype: int64"
      ]
     },
     "execution_count": 44,
     "metadata": {},
     "output_type": "execute_result"
    }
   ],
   "source": [
    "f_traindf.condition[f_traindf.drugName == 'Sertraline'].value_counts()"
   ]
  },
  {
   "cell_type": "code",
   "execution_count": 26,
   "metadata": {},
   "outputs": [
    {
     "data": {
      "text/plain": [
       "Depression                                   549\n",
       "Smoking Cessation                            147\n",
       "Major Depressive Disorde                     114\n",
       "ADHD                                          58\n",
       "Anxiety                                       55\n",
       "Bipolar Disorde                               32\n",
       "Sexual Dysfunction, SSRI Induced              27\n",
       "Seasonal Affective Disorde                    11\n",
       "Panic Disorde                                  7\n",
       "Obesity                                        5\n",
       "Not Listed / Othe                              4\n",
       "Persistent Depressive Disorde                  3\n",
       "Premenstrual Dysphoric Disorde                 2\n",
       "Postural Orthostatic Tachycardia Syndrome      2\n",
       "Migraine Prevention                            1\n",
       "Name: condition, dtype: int64"
      ]
     },
     "execution_count": 26,
     "metadata": {},
     "output_type": "execute_result"
    }
   ],
   "source": [
    "f_traindf.condition[f_traindf.drugName == 'Bupropion'].value_counts()"
   ]
  },
  {
   "cell_type": "code",
   "execution_count": 45,
   "metadata": {},
   "outputs": [
    {
     "data": {
      "text/plain": [
       "Depression    1410\n",
       "Name: condition, dtype: int64"
      ]
     },
     "execution_count": 45,
     "metadata": {},
     "output_type": "execute_result"
    }
   ],
   "source": [
    "df.condition.value_counts()"
   ]
  },
  {
   "cell_type": "code",
   "execution_count": 46,
   "metadata": {},
   "outputs": [
    {
     "name": "stdout",
     "output_type": "stream",
     "text": [
      "<class 'pandas.core.frame.DataFrame'>\n",
      "Int64Index: 1410 entries, 31 to 53580\n",
      "Data columns (total 7 columns):\n",
      "uniqueID       1410 non-null int64\n",
      "drugName       1410 non-null object\n",
      "condition      1410 non-null object\n",
      "review         1410 non-null object\n",
      "rating         1410 non-null int64\n",
      "date           1410 non-null object\n",
      "usefulCount    1410 non-null int64\n",
      "dtypes: int64(3), object(4)\n",
      "memory usage: 88.1+ KB\n"
     ]
    }
   ],
   "source": [
    "df.info()"
   ]
  },
  {
   "cell_type": "code",
   "execution_count": 52,
   "metadata": {},
   "outputs": [],
   "source": [
    "df.to_csv(r'..\\data\\drug_review.csv',index=False)"
   ]
  },
  {
   "cell_type": "code",
   "execution_count": 54,
   "metadata": {},
   "outputs": [
    {
     "data": {
      "text/html": [
       "<div>\n",
       "<style scoped>\n",
       "    .dataframe tbody tr th:only-of-type {\n",
       "        vertical-align: middle;\n",
       "    }\n",
       "\n",
       "    .dataframe tbody tr th {\n",
       "        vertical-align: top;\n",
       "    }\n",
       "\n",
       "    .dataframe thead th {\n",
       "        text-align: right;\n",
       "    }\n",
       "</style>\n",
       "<table border=\"1\" class=\"dataframe\">\n",
       "  <thead>\n",
       "    <tr style=\"text-align: right;\">\n",
       "      <th></th>\n",
       "      <th>uniqueID</th>\n",
       "      <th>drugName</th>\n",
       "      <th>condition</th>\n",
       "      <th>review</th>\n",
       "      <th>rating</th>\n",
       "      <th>date</th>\n",
       "      <th>usefulCount</th>\n",
       "    </tr>\n",
       "  </thead>\n",
       "  <tbody>\n",
       "    <tr>\n",
       "      <td>0</td>\n",
       "      <td>96233</td>\n",
       "      <td>Sertraline</td>\n",
       "      <td>Depression</td>\n",
       "      <td>\"1 week on Zoloft for anxiety and mood swings....</td>\n",
       "      <td>8</td>\n",
       "      <td>7-May-11</td>\n",
       "      <td>3</td>\n",
       "    </tr>\n",
       "    <tr>\n",
       "      <td>1</td>\n",
       "      <td>225257</td>\n",
       "      <td>Bupropion</td>\n",
       "      <td>Depression</td>\n",
       "      <td>\"I was really glad that I experienced none of ...</td>\n",
       "      <td>4</td>\n",
       "      <td>8-Oct-15</td>\n",
       "      <td>0</td>\n",
       "    </tr>\n",
       "    <tr>\n",
       "      <td>2</td>\n",
       "      <td>224842</td>\n",
       "      <td>Bupropion</td>\n",
       "      <td>Depression</td>\n",
       "      <td>\"F/26, Wellbutrin SR 100mg twice a day &amp;amp; I...</td>\n",
       "      <td>10</td>\n",
       "      <td>2-Jan-17</td>\n",
       "      <td>14</td>\n",
       "    </tr>\n",
       "    <tr>\n",
       "      <td>3</td>\n",
       "      <td>225955</td>\n",
       "      <td>Bupropion</td>\n",
       "      <td>Depression</td>\n",
       "      <td>\"Wellbutrin has significantly improved my over...</td>\n",
       "      <td>8</td>\n",
       "      <td>8-Jun-09</td>\n",
       "      <td>46</td>\n",
       "    </tr>\n",
       "    <tr>\n",
       "      <td>4</td>\n",
       "      <td>95811</td>\n",
       "      <td>Sertraline</td>\n",
       "      <td>Depression</td>\n",
       "      <td>\"I was on the sertraline, for 3 years. After d...</td>\n",
       "      <td>6</td>\n",
       "      <td>12-May-14</td>\n",
       "      <td>25</td>\n",
       "    </tr>\n",
       "  </tbody>\n",
       "</table>\n",
       "</div>"
      ],
      "text/plain": [
       "   uniqueID    drugName   condition  \\\n",
       "0     96233  Sertraline  Depression   \n",
       "1    225257   Bupropion  Depression   \n",
       "2    224842   Bupropion  Depression   \n",
       "3    225955   Bupropion  Depression   \n",
       "4     95811  Sertraline  Depression   \n",
       "\n",
       "                                              review  rating       date  \\\n",
       "0  \"1 week on Zoloft for anxiety and mood swings....       8   7-May-11   \n",
       "1  \"I was really glad that I experienced none of ...       4   8-Oct-15   \n",
       "2  \"F/26, Wellbutrin SR 100mg twice a day &amp; I...      10   2-Jan-17   \n",
       "3  \"Wellbutrin has significantly improved my over...       8   8-Jun-09   \n",
       "4  \"I was on the sertraline, for 3 years. After d...       6  12-May-14   \n",
       "\n",
       "   usefulCount  \n",
       "0            3  \n",
       "1            0  \n",
       "2           14  \n",
       "3           46  \n",
       "4           25  "
      ]
     },
     "execution_count": 54,
     "metadata": {},
     "output_type": "execute_result"
    }
   ],
   "source": [
    "new_df = pd.read_csv(r'..\\data\\drug_review.csv')\n",
    "new_df.head()"
   ]
  },
  {
   "cell_type": "code",
   "execution_count": null,
   "metadata": {},
   "outputs": [],
   "source": []
  }
 ],
 "metadata": {
  "kernelspec": {
   "display_name": "Python 3",
   "language": "python",
   "name": "python3"
  },
  "language_info": {
   "codemirror_mode": {
    "name": "ipython",
    "version": 3
   },
   "file_extension": ".py",
   "mimetype": "text/x-python",
   "name": "python",
   "nbconvert_exporter": "python",
   "pygments_lexer": "ipython3",
   "version": "3.7.2"
  }
 },
 "nbformat": 4,
 "nbformat_minor": 2
}
